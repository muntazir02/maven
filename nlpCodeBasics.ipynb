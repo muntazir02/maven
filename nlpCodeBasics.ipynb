{
 "cells": [
  {
   "cell_type": "markdown",
   "id": "b1e266b1-bb1d-4e92-bc33-de78ee68783f",
   "metadata": {},
   "source": [
    "# NLP Concepts"
   ]
  },
  {
   "cell_type": "code",
   "execution_count": 1,
   "id": "8f7b5f1e-4773-4cb1-9832-cb825d11d8af",
   "metadata": {
    "execution": {
     "iopub.execute_input": "2023-05-16T02:58:42.352012Z",
     "iopub.status.busy": "2023-05-16T02:58:42.351008Z",
     "iopub.status.idle": "2023-05-16T02:58:42.365522Z",
     "shell.execute_reply": "2023-05-16T02:58:42.365522Z",
     "shell.execute_reply.started": "2023-05-16T02:58:42.352012Z"
    },
    "tags": []
   },
   "outputs": [],
   "source": [
    "import re"
   ]
  }
 ],
 "metadata": {
  "kernelspec": {
   "display_name": "Python 3 (ipykernel)",
   "language": "python",
   "name": "python3"
  },
  "language_info": {
   "codemirror_mode": {
    "name": "ipython",
    "version": 3
   },
   "file_extension": ".py",
   "mimetype": "text/x-python",
   "name": "python",
   "nbconvert_exporter": "python",
   "pygments_lexer": "ipython3",
   "version": "3.10.10"
  }
 },
 "nbformat": 4,
 "nbformat_minor": 5
}
