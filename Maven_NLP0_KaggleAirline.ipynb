{
 "cells": [
  {
   "cell_type": "markdown",
   "id": "35238c00-e81e-4f47-8bd4-7c811619be03",
   "metadata": {},
   "source": [
    "# Maven NLP Course\n",
    "Assignment 1, 10 May 2023\n",
    "https://www.kaggle.com/datasets/crowdflower/twitter-airline-sentiment"
   ]
  },
  {
   "cell_type": "code",
   "execution_count": null,
   "id": "9ccca367-d41e-4c25-996d-42ad799c1845",
   "metadata": {},
   "outputs": [],
   "source": []
  }
 ],
 "metadata": {
  "kernelspec": {
   "display_name": "Python 3 (ipykernel)",
   "language": "python",
   "name": "python3"
  },
  "language_info": {
   "codemirror_mode": {
    "name": "ipython",
    "version": 3
   },
   "file_extension": ".py",
   "mimetype": "text/x-python",
   "name": "python",
   "nbconvert_exporter": "python",
   "pygments_lexer": "ipython3",
   "version": "3.10.10"
  }
 },
 "nbformat": 4,
 "nbformat_minor": 5
}
