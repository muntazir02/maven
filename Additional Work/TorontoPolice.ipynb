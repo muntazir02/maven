{
 "cells": [
  {
   "cell_type": "markdown",
   "id": "c9abd7d2-6adb-44a0-b55e-b778b5e74ac9",
   "metadata": {},
   "source": [
    "# Machine Learning Model to Predict Crime in Different Part"
   ]
  },
  {
   "cell_type": "markdown",
   "id": "133d62f3-d829-4180-9417-283afcf872cb",
   "metadata": {},
   "source": [
    "Using the publically available police dataset at https://data.torontopolice.on.ca/pages/major-crime-indicators"
   ]
  },
  {
   "cell_type": "code",
   "execution_count": 27,
   "id": "2c06cc21-b5cb-43ae-aeeb-d7f153a1a5a8",
   "metadata": {
    "execution": {
     "iopub.execute_input": "2023-05-19T02:22:54.372597Z",
     "iopub.status.busy": "2023-05-19T02:22:54.372597Z",
     "iopub.status.idle": "2023-05-19T02:22:54.403057Z",
     "shell.execute_reply": "2023-05-19T02:22:54.403057Z",
     "shell.execute_reply.started": "2023-05-19T02:22:54.372597Z"
    },
    "tags": []
   },
   "outputs": [],
   "source": [
    "import pandas as pd\n",
    "from sklearn.model_selection import train_test_split\n",
    "from sklearn.ensemble import RandomForestClassifier\n",
    "from sklearn.metrics import classification_report\n",
    "from sklearn.preprocessing import LabelEncoder"
   ]
  },
  {
   "cell_type": "code",
   "execution_count": 28,
   "id": "e41cb857-2a76-4f62-ab25-017ad18c7f0f",
   "metadata": {
    "execution": {
     "iopub.execute_input": "2023-05-19T02:22:54.950388Z",
     "iopub.status.busy": "2023-05-19T02:22:54.950388Z",
     "iopub.status.idle": "2023-05-19T02:22:56.455284Z",
     "shell.execute_reply": "2023-05-19T02:22:56.455284Z",
     "shell.execute_reply.started": "2023-05-19T02:22:54.950388Z"
    },
    "tags": []
   },
   "outputs": [],
   "source": [
    "df = pd.read_csv('C:\\ml\\Major_Crime_Indicators_Open_Data.csv')"
   ]
  },
  {
   "cell_type": "code",
   "execution_count": 29,
   "id": "9a350ecd-1130-4e11-a860-c8bf2bfbf3ab",
   "metadata": {
    "execution": {
     "iopub.execute_input": "2023-05-19T02:22:56.455284Z",
     "iopub.status.busy": "2023-05-19T02:22:56.455284Z",
     "iopub.status.idle": "2023-05-19T02:22:56.493032Z",
     "shell.execute_reply": "2023-05-19T02:22:56.493032Z",
     "shell.execute_reply.started": "2023-05-19T02:22:56.455284Z"
    },
    "tags": []
   },
   "outputs": [
    {
     "data": {
      "text/html": [
       "<div>\n",
       "<style scoped>\n",
       "    .dataframe tbody tr th:only-of-type {\n",
       "        vertical-align: middle;\n",
       "    }\n",
       "\n",
       "    .dataframe tbody tr th {\n",
       "        vertical-align: top;\n",
       "    }\n",
       "\n",
       "    .dataframe thead th {\n",
       "        text-align: right;\n",
       "    }\n",
       "</style>\n",
       "<table border=\"1\" class=\"dataframe\">\n",
       "  <thead>\n",
       "    <tr style=\"text-align: right;\">\n",
       "      <th></th>\n",
       "      <th>X</th>\n",
       "      <th>Y</th>\n",
       "      <th>OBJECTID</th>\n",
       "      <th>EVENT_UNIQUE_ID</th>\n",
       "      <th>REPORT_DATE</th>\n",
       "      <th>OCC_DATE</th>\n",
       "      <th>REPORT_YEAR</th>\n",
       "      <th>REPORT_MONTH</th>\n",
       "      <th>REPORT_DAY</th>\n",
       "      <th>REPORT_DOY</th>\n",
       "      <th>...</th>\n",
       "      <th>UCR_CODE</th>\n",
       "      <th>UCR_EXT</th>\n",
       "      <th>OFFENCE</th>\n",
       "      <th>MCI_CATEGORY</th>\n",
       "      <th>HOOD_158</th>\n",
       "      <th>NEIGHBOURHOOD_158</th>\n",
       "      <th>HOOD_140</th>\n",
       "      <th>NEIGHBOURHOOD_140</th>\n",
       "      <th>LONG_WGS84</th>\n",
       "      <th>LAT_WGS84</th>\n",
       "    </tr>\n",
       "  </thead>\n",
       "  <tbody>\n",
       "    <tr>\n",
       "      <th>0</th>\n",
       "      <td>-79.425896</td>\n",
       "      <td>43.757346</td>\n",
       "      <td>1</td>\n",
       "      <td>GO-20141262074</td>\n",
       "      <td>2014/01/01 05:00:00+00</td>\n",
       "      <td>1998/06/01 04:00:00+00</td>\n",
       "      <td>2014</td>\n",
       "      <td>January</td>\n",
       "      <td>1</td>\n",
       "      <td>1</td>\n",
       "      <td>...</td>\n",
       "      <td>1480</td>\n",
       "      <td>110</td>\n",
       "      <td>Administering Noxious Thing</td>\n",
       "      <td>Assault</td>\n",
       "      <td>38</td>\n",
       "      <td>Lansing-Westgate</td>\n",
       "      <td>38</td>\n",
       "      <td>Lansing-Westgate (38)</td>\n",
       "      <td>-79.425896</td>\n",
       "      <td>43.757346</td>\n",
       "    </tr>\n",
       "    <tr>\n",
       "      <th>1</th>\n",
       "      <td>-79.350229</td>\n",
       "      <td>43.646293</td>\n",
       "      <td>2</td>\n",
       "      <td>GO-20141260701</td>\n",
       "      <td>2014/01/01 05:00:00+00</td>\n",
       "      <td>2014/01/01 05:00:00+00</td>\n",
       "      <td>2014</td>\n",
       "      <td>January</td>\n",
       "      <td>1</td>\n",
       "      <td>1</td>\n",
       "      <td>...</td>\n",
       "      <td>2120</td>\n",
       "      <td>200</td>\n",
       "      <td>B&amp;E</td>\n",
       "      <td>Break and Enter</td>\n",
       "      <td>70</td>\n",
       "      <td>South Riverdale</td>\n",
       "      <td>70</td>\n",
       "      <td>South Riverdale (70)</td>\n",
       "      <td>-79.350229</td>\n",
       "      <td>43.646293</td>\n",
       "    </tr>\n",
       "    <tr>\n",
       "      <th>2</th>\n",
       "      <td>-79.376497</td>\n",
       "      <td>43.666423</td>\n",
       "      <td>3</td>\n",
       "      <td>GO-20141260889</td>\n",
       "      <td>2014/01/01 05:00:00+00</td>\n",
       "      <td>2014/01/01 05:00:00+00</td>\n",
       "      <td>2014</td>\n",
       "      <td>January</td>\n",
       "      <td>1</td>\n",
       "      <td>1</td>\n",
       "      <td>...</td>\n",
       "      <td>1430</td>\n",
       "      <td>100</td>\n",
       "      <td>Assault</td>\n",
       "      <td>Assault</td>\n",
       "      <td>74</td>\n",
       "      <td>North St.James Town</td>\n",
       "      <td>74</td>\n",
       "      <td>North St.James Town (74)</td>\n",
       "      <td>-79.376497</td>\n",
       "      <td>43.666423</td>\n",
       "    </tr>\n",
       "    <tr>\n",
       "      <th>3</th>\n",
       "      <td>-85.488744</td>\n",
       "      <td>0.000000</td>\n",
       "      <td>4</td>\n",
       "      <td>GO-20141260973</td>\n",
       "      <td>2014/01/01 05:00:00+00</td>\n",
       "      <td>2014/01/01 05:00:00+00</td>\n",
       "      <td>2014</td>\n",
       "      <td>January</td>\n",
       "      <td>1</td>\n",
       "      <td>1</td>\n",
       "      <td>...</td>\n",
       "      <td>2130</td>\n",
       "      <td>210</td>\n",
       "      <td>Theft Over</td>\n",
       "      <td>Theft Over</td>\n",
       "      <td>NSA</td>\n",
       "      <td>NSA</td>\n",
       "      <td>NSA</td>\n",
       "      <td>NSA</td>\n",
       "      <td>-85.488744</td>\n",
       "      <td>0.000000</td>\n",
       "    </tr>\n",
       "    <tr>\n",
       "      <th>4</th>\n",
       "      <td>-79.344839</td>\n",
       "      <td>43.678946</td>\n",
       "      <td>5</td>\n",
       "      <td>GO-20141261050</td>\n",
       "      <td>2014/01/01 05:00:00+00</td>\n",
       "      <td>2014/01/01 05:00:00+00</td>\n",
       "      <td>2014</td>\n",
       "      <td>January</td>\n",
       "      <td>1</td>\n",
       "      <td>1</td>\n",
       "      <td>...</td>\n",
       "      <td>1430</td>\n",
       "      <td>100</td>\n",
       "      <td>Assault</td>\n",
       "      <td>Assault</td>\n",
       "      <td>69</td>\n",
       "      <td>Blake-Jones</td>\n",
       "      <td>66</td>\n",
       "      <td>Danforth (66)</td>\n",
       "      <td>-79.344839</td>\n",
       "      <td>43.678946</td>\n",
       "    </tr>\n",
       "  </tbody>\n",
       "</table>\n",
       "<p>5 rows × 31 columns</p>\n",
       "</div>"
      ],
      "text/plain": [
       "           X          Y  OBJECTID EVENT_UNIQUE_ID             REPORT_DATE  \\\n",
       "0 -79.425896  43.757346         1  GO-20141262074  2014/01/01 05:00:00+00   \n",
       "1 -79.350229  43.646293         2  GO-20141260701  2014/01/01 05:00:00+00   \n",
       "2 -79.376497  43.666423         3  GO-20141260889  2014/01/01 05:00:00+00   \n",
       "3 -85.488744   0.000000         4  GO-20141260973  2014/01/01 05:00:00+00   \n",
       "4 -79.344839  43.678946         5  GO-20141261050  2014/01/01 05:00:00+00   \n",
       "\n",
       "                 OCC_DATE  REPORT_YEAR REPORT_MONTH  REPORT_DAY  REPORT_DOY  \\\n",
       "0  1998/06/01 04:00:00+00         2014      January           1           1   \n",
       "1  2014/01/01 05:00:00+00         2014      January           1           1   \n",
       "2  2014/01/01 05:00:00+00         2014      January           1           1   \n",
       "3  2014/01/01 05:00:00+00         2014      January           1           1   \n",
       "4  2014/01/01 05:00:00+00         2014      January           1           1   \n",
       "\n",
       "   ... UCR_CODE  UCR_EXT                      OFFENCE     MCI_CATEGORY  \\\n",
       "0  ...     1480      110  Administering Noxious Thing          Assault   \n",
       "1  ...     2120      200                          B&E  Break and Enter   \n",
       "2  ...     1430      100                      Assault          Assault   \n",
       "3  ...     2130      210                   Theft Over       Theft Over   \n",
       "4  ...     1430      100                      Assault          Assault   \n",
       "\n",
       "   HOOD_158    NEIGHBOURHOOD_158 HOOD_140         NEIGHBOURHOOD_140  \\\n",
       "0        38     Lansing-Westgate       38     Lansing-Westgate (38)   \n",
       "1        70      South Riverdale       70      South Riverdale (70)   \n",
       "2        74  North St.James Town       74  North St.James Town (74)   \n",
       "3       NSA                  NSA      NSA                       NSA   \n",
       "4        69          Blake-Jones       66             Danforth (66)   \n",
       "\n",
       "  LONG_WGS84  LAT_WGS84  \n",
       "0 -79.425896  43.757346  \n",
       "1 -79.350229  43.646293  \n",
       "2 -79.376497  43.666423  \n",
       "3 -85.488744   0.000000  \n",
       "4 -79.344839  43.678946  \n",
       "\n",
       "[5 rows x 31 columns]"
      ]
     },
     "execution_count": 29,
     "metadata": {},
     "output_type": "execute_result"
    }
   ],
   "source": [
    "df.head()"
   ]
  },
  {
   "cell_type": "code",
   "execution_count": 30,
   "id": "0956d2e9-6bfb-45da-aef2-ea07fe2acb5d",
   "metadata": {
    "execution": {
     "iopub.execute_input": "2023-05-19T02:22:57.345093Z",
     "iopub.status.busy": "2023-05-19T02:22:57.345093Z",
     "iopub.status.idle": "2023-05-19T02:22:57.455629Z",
     "shell.execute_reply": "2023-05-19T02:22:57.455629Z",
     "shell.execute_reply.started": "2023-05-19T02:22:57.345093Z"
    },
    "tags": []
   },
   "outputs": [],
   "source": [
    "# Convert 'REPORT_MONTH' to numerical format\n",
    "encoder = LabelEncoder()\n",
    "df['REPORT_MONTH'] = encoder.fit_transform(df['REPORT_MONTH'])\n",
    "\n",
    "features = df[['X', 'Y', 'REPORT_HOUR', 'REPORT_DAY', 'REPORT_MONTH', 'REPORT_YEAR']]\n",
    "\n",
    "# Separate targets\n",
    "target_UCR_CODE = df['UCR_CODE']\n",
    "target_UCR_EXT = df['UCR_EXT']"
   ]
  },
  {
   "cell_type": "code",
   "execution_count": 31,
   "id": "6ab9a1cd-a89d-4fa5-9bf8-6b1c23a49e82",
   "metadata": {
    "execution": {
     "iopub.execute_input": "2023-05-19T02:22:59.174960Z",
     "iopub.status.busy": "2023-05-19T02:22:59.174960Z",
     "iopub.status.idle": "2023-05-19T02:24:55.295298Z",
     "shell.execute_reply": "2023-05-19T02:24:55.293558Z",
     "shell.execute_reply.started": "2023-05-19T02:22:59.174960Z"
    },
    "tags": []
   },
   "outputs": [
    {
     "data": {
      "text/html": [
       "<style>#sk-container-id-3 {color: black;background-color: white;}#sk-container-id-3 pre{padding: 0;}#sk-container-id-3 div.sk-toggleable {background-color: white;}#sk-container-id-3 label.sk-toggleable__label {cursor: pointer;display: block;width: 100%;margin-bottom: 0;padding: 0.3em;box-sizing: border-box;text-align: center;}#sk-container-id-3 label.sk-toggleable__label-arrow:before {content: \"▸\";float: left;margin-right: 0.25em;color: #696969;}#sk-container-id-3 label.sk-toggleable__label-arrow:hover:before {color: black;}#sk-container-id-3 div.sk-estimator:hover label.sk-toggleable__label-arrow:before {color: black;}#sk-container-id-3 div.sk-toggleable__content {max-height: 0;max-width: 0;overflow: hidden;text-align: left;background-color: #f0f8ff;}#sk-container-id-3 div.sk-toggleable__content pre {margin: 0.2em;color: black;border-radius: 0.25em;background-color: #f0f8ff;}#sk-container-id-3 input.sk-toggleable__control:checked~div.sk-toggleable__content {max-height: 200px;max-width: 100%;overflow: auto;}#sk-container-id-3 input.sk-toggleable__control:checked~label.sk-toggleable__label-arrow:before {content: \"▾\";}#sk-container-id-3 div.sk-estimator input.sk-toggleable__control:checked~label.sk-toggleable__label {background-color: #d4ebff;}#sk-container-id-3 div.sk-label input.sk-toggleable__control:checked~label.sk-toggleable__label {background-color: #d4ebff;}#sk-container-id-3 input.sk-hidden--visually {border: 0;clip: rect(1px 1px 1px 1px);clip: rect(1px, 1px, 1px, 1px);height: 1px;margin: -1px;overflow: hidden;padding: 0;position: absolute;width: 1px;}#sk-container-id-3 div.sk-estimator {font-family: monospace;background-color: #f0f8ff;border: 1px dotted black;border-radius: 0.25em;box-sizing: border-box;margin-bottom: 0.5em;}#sk-container-id-3 div.sk-estimator:hover {background-color: #d4ebff;}#sk-container-id-3 div.sk-parallel-item::after {content: \"\";width: 100%;border-bottom: 1px solid gray;flex-grow: 1;}#sk-container-id-3 div.sk-label:hover label.sk-toggleable__label {background-color: #d4ebff;}#sk-container-id-3 div.sk-serial::before {content: \"\";position: absolute;border-left: 1px solid gray;box-sizing: border-box;top: 0;bottom: 0;left: 50%;z-index: 0;}#sk-container-id-3 div.sk-serial {display: flex;flex-direction: column;align-items: center;background-color: white;padding-right: 0.2em;padding-left: 0.2em;position: relative;}#sk-container-id-3 div.sk-item {position: relative;z-index: 1;}#sk-container-id-3 div.sk-parallel {display: flex;align-items: stretch;justify-content: center;background-color: white;position: relative;}#sk-container-id-3 div.sk-item::before, #sk-container-id-3 div.sk-parallel-item::before {content: \"\";position: absolute;border-left: 1px solid gray;box-sizing: border-box;top: 0;bottom: 0;left: 50%;z-index: -1;}#sk-container-id-3 div.sk-parallel-item {display: flex;flex-direction: column;z-index: 1;position: relative;background-color: white;}#sk-container-id-3 div.sk-parallel-item:first-child::after {align-self: flex-end;width: 50%;}#sk-container-id-3 div.sk-parallel-item:last-child::after {align-self: flex-start;width: 50%;}#sk-container-id-3 div.sk-parallel-item:only-child::after {width: 0;}#sk-container-id-3 div.sk-dashed-wrapped {border: 1px dashed gray;margin: 0 0.4em 0.5em 0.4em;box-sizing: border-box;padding-bottom: 0.4em;background-color: white;}#sk-container-id-3 div.sk-label label {font-family: monospace;font-weight: bold;display: inline-block;line-height: 1.2em;}#sk-container-id-3 div.sk-label-container {text-align: center;}#sk-container-id-3 div.sk-container {/* jupyter's `normalize.less` sets `[hidden] { display: none; }` but bootstrap.min.css set `[hidden] { display: none !important; }` so we also need the `!important` here to be able to override the default hidden behavior on the sphinx rendered scikit-learn.org. See: https://github.com/scikit-learn/scikit-learn/issues/21755 */display: inline-block !important;position: relative;}#sk-container-id-3 div.sk-text-repr-fallback {display: none;}</style><div id=\"sk-container-id-3\" class=\"sk-top-container\"><div class=\"sk-text-repr-fallback\"><pre>RandomForestClassifier()</pre><b>In a Jupyter environment, please rerun this cell to show the HTML representation or trust the notebook. <br />On GitHub, the HTML representation is unable to render, please try loading this page with nbviewer.org.</b></div><div class=\"sk-container\" hidden><div class=\"sk-item\"><div class=\"sk-estimator sk-toggleable\"><input class=\"sk-toggleable__control sk-hidden--visually\" id=\"sk-estimator-id-3\" type=\"checkbox\" checked><label for=\"sk-estimator-id-3\" class=\"sk-toggleable__label sk-toggleable__label-arrow\">RandomForestClassifier</label><div class=\"sk-toggleable__content\"><pre>RandomForestClassifier()</pre></div></div></div></div></div>"
      ],
      "text/plain": [
       "RandomForestClassifier()"
      ]
     },
     "execution_count": 31,
     "metadata": {},
     "output_type": "execute_result"
    }
   ],
   "source": [
    "# Split data into train and test sets for each target\n",
    "X_train_code, X_test_code, y_train_code, y_test_code = train_test_split(features, target_UCR_CODE, test_size=0.2)\n",
    "X_train_ext, X_test_ext, y_train_ext, y_test_ext = train_test_split(features, target_UCR_EXT, test_size=0.2)\n",
    "\n",
    "# Train a RandomForest model for each target\n",
    "model_UCR_CODE = RandomForestClassifier()\n",
    "model_UCR_CODE.fit(X_train_code, y_train_code)\n",
    "\n",
    "model_UCR_EXT = RandomForestClassifier()\n",
    "model_UCR_EXT.fit(X_train_ext, y_train_ext)"
   ]
  },
  {
   "cell_type": "code",
   "execution_count": 32,
   "id": "532c9fc1-f00a-4cd8-b92f-a7effeb8d8d7",
   "metadata": {
    "execution": {
     "iopub.execute_input": "2023-05-19T02:24:55.295298Z",
     "iopub.status.busy": "2023-05-19T02:24:55.295298Z",
     "iopub.status.idle": "2023-05-19T02:25:02.816000Z",
     "shell.execute_reply": "2023-05-19T02:25:02.816000Z",
     "shell.execute_reply.started": "2023-05-19T02:24:55.295298Z"
    },
    "tags": []
   },
   "outputs": [
    {
     "name": "stdout",
     "output_type": "stream",
     "text": [
      "Classification report for UCR_CODE:\n",
      "              precision    recall  f1-score   support\n",
      "\n",
      "        1410       0.20      0.12      0.15       497\n",
      "        1420       0.40      0.22      0.29      7384\n",
      "        1430       0.46      0.73      0.57     23749\n",
      "        1440       0.00      0.00      0.00         2\n",
      "        1450       0.69      0.26      0.38       752\n",
      "        1455       0.40      0.12      0.19        48\n",
      "        1457       0.23      0.11      0.15       234\n",
      "        1460       0.53      0.31      0.39      1114\n",
      "        1461       0.49      0.43      0.46       115\n",
      "        1462       0.50      0.44      0.47         9\n",
      "        1470       0.56      0.23      0.32        22\n",
      "        1475       0.00      0.00      0.00         1\n",
      "        1480       0.41      0.19      0.26       727\n",
      "        1610       0.64      0.35      0.45      6232\n",
      "        1611       0.00      0.00      0.00         2\n",
      "        2120       0.44      0.35      0.39     12422\n",
      "        2121       1.00      0.25      0.40         4\n",
      "        2125       0.00      0.00      0.00         2\n",
      "        2130       0.09      0.01      0.02      1491\n",
      "        2132       0.08      0.01      0.01       536\n",
      "        2133       0.10      0.02      0.03       102\n",
      "        2135       0.55      0.48      0.51      9215\n",
      "\n",
      "    accuracy                           0.48     64660\n",
      "   macro avg       0.35      0.21      0.25     64660\n",
      "weighted avg       0.47      0.48      0.45     64660\n",
      "\n",
      "\n",
      "Classification report for UCR_EXT:\n",
      "              precision    recall  f1-score   support\n",
      "\n",
      "         100       0.61      0.87      0.72     33452\n",
      "         110       0.26      0.09      0.14      1965\n",
      "         120       0.65      0.28      0.39       453\n",
      "         130       0.82      0.54      0.65       228\n",
      "         140       0.45      0.20      0.27       188\n",
      "         150       0.57      0.13      0.21       207\n",
      "         160       0.40      0.11      0.17        38\n",
      "         170       0.29      0.03      0.06        64\n",
      "         180       0.60      0.21      0.31       461\n",
      "         190       0.00      0.00      0.00        24\n",
      "         200       0.48      0.24      0.32     13244\n",
      "         210       0.59      0.41      0.49     11732\n",
      "         211       0.00      0.00      0.00        22\n",
      "         215       0.00      0.00      0.00        31\n",
      "         220       0.33      0.07      0.11      2526\n",
      "         230       0.00      0.00      0.00        25\n",
      "\n",
      "    accuracy                           0.59     64660\n",
      "   macro avg       0.38      0.20      0.24     64660\n",
      "weighted avg       0.55      0.59      0.54     64660\n",
      "\n"
     ]
    },
    {
     "name": "stderr",
     "output_type": "stream",
     "text": [
      "C:\\Users\\Muntazir.Mehdi\\AppData\\Local\\anaconda3\\lib\\site-packages\\sklearn\\metrics\\_classification.py:1344: UndefinedMetricWarning: Precision and F-score are ill-defined and being set to 0.0 in labels with no predicted samples. Use `zero_division` parameter to control this behavior.\n",
      "  _warn_prf(average, modifier, msg_start, len(result))\n",
      "C:\\Users\\Muntazir.Mehdi\\AppData\\Local\\anaconda3\\lib\\site-packages\\sklearn\\metrics\\_classification.py:1344: UndefinedMetricWarning: Precision and F-score are ill-defined and being set to 0.0 in labels with no predicted samples. Use `zero_division` parameter to control this behavior.\n",
      "  _warn_prf(average, modifier, msg_start, len(result))\n",
      "C:\\Users\\Muntazir.Mehdi\\AppData\\Local\\anaconda3\\lib\\site-packages\\sklearn\\metrics\\_classification.py:1344: UndefinedMetricWarning: Precision and F-score are ill-defined and being set to 0.0 in labels with no predicted samples. Use `zero_division` parameter to control this behavior.\n",
      "  _warn_prf(average, modifier, msg_start, len(result))\n"
     ]
    }
   ],
   "source": [
    "# Evaluate the models\n",
    "predictions_UCR_CODE = model_UCR_CODE.predict(X_test_code)\n",
    "predictions_UCR_EXT = model_UCR_EXT.predict(X_test_ext)\n",
    "\n",
    "print(\"Classification report for UCR_CODE:\")\n",
    "print(classification_report(y_test_code, predictions_UCR_CODE))\n",
    "\n",
    "print(\"\\nClassification report for UCR_EXT:\")\n",
    "print(classification_report(y_test_ext, predictions_UCR_EXT))"
   ]
  },
  {
   "cell_type": "code",
   "execution_count": 34,
   "id": "534069ff-33de-480e-8fd4-8825e5ef8a31",
   "metadata": {
    "execution": {
     "iopub.execute_input": "2023-05-19T02:29:43.914433Z",
     "iopub.status.busy": "2023-05-19T02:29:43.914433Z",
     "iopub.status.idle": "2023-05-19T02:32:55.802297Z",
     "shell.execute_reply": "2023-05-19T02:32:55.801283Z",
     "shell.execute_reply.started": "2023-05-19T02:29:43.914433Z"
    },
    "tags": []
   },
   "outputs": [
    {
     "name": "stderr",
     "output_type": "stream",
     "text": [
      "C:\\Users\\Muntazir.Mehdi\\AppData\\Local\\anaconda3\\lib\\site-packages\\IPython\\core\\interactiveshell.py:3400: FutureWarning: The `op` parameter is deprecated and will be removed in a future release. Please use the `predicate` parameter instead.\n",
      "  if await self.run_code(code, result, async_=asy):\n",
      "C:\\Users\\Muntazir.Mehdi\\AppData\\Local\\Temp\\ipykernel_17128\\3147704676.py:21: UserWarning: CRS mismatch between the CRS of left geometries and the CRS of right geometries.\n",
      "Use `to_crs()` to reproject one of the input geometries to match the CRS of the other.\n",
      "\n",
      "Left CRS: None\n",
      "Right CRS: EPSG:4326\n",
      "\n",
      "  joined_df = gpd.sjoin(gdf, map_df, how='left', op='within')\n"
     ]
    },
    {
     "ename": "KeyError",
     "evalue": "'NEIGHBOURHOOD_158'",
     "output_type": "error",
     "traceback": [
      "\u001b[1;31m---------------------------------------------------------------------------\u001b[0m",
      "\u001b[1;31mKeyError\u001b[0m                                  Traceback (most recent call last)",
      "Cell \u001b[1;32mIn[34], line 24\u001b[0m\n\u001b[0;32m     21\u001b[0m joined_df \u001b[38;5;241m=\u001b[39m gpd\u001b[38;5;241m.\u001b[39msjoin(gdf, map_df, how\u001b[38;5;241m=\u001b[39m\u001b[38;5;124m'\u001b[39m\u001b[38;5;124mleft\u001b[39m\u001b[38;5;124m'\u001b[39m, op\u001b[38;5;241m=\u001b[39m\u001b[38;5;124m'\u001b[39m\u001b[38;5;124mwithin\u001b[39m\u001b[38;5;124m'\u001b[39m)\n\u001b[0;32m     23\u001b[0m \u001b[38;5;66;03m# Group the data by the boundaries and calculate the count of crimes\u001b[39;00m\n\u001b[1;32m---> 24\u001b[0m grouped \u001b[38;5;241m=\u001b[39m \u001b[43mjoined_df\u001b[49m\u001b[38;5;241;43m.\u001b[39;49m\u001b[43mgroupby\u001b[49m\u001b[43m(\u001b[49m\u001b[43m[\u001b[49m\u001b[38;5;124;43m'\u001b[39;49m\u001b[38;5;124;43mHOOD_158\u001b[39;49m\u001b[38;5;124;43m'\u001b[39;49m\u001b[43m,\u001b[49m\u001b[43m \u001b[49m\u001b[38;5;124;43m'\u001b[39;49m\u001b[38;5;124;43mNEIGHBOURHOOD_158\u001b[39;49m\u001b[38;5;124;43m'\u001b[39;49m\u001b[43m,\u001b[49m\u001b[43m \u001b[49m\u001b[38;5;124;43m'\u001b[39;49m\u001b[38;5;124;43mgeometry\u001b[39;49m\u001b[38;5;124;43m'\u001b[39;49m\u001b[43m]\u001b[49m\u001b[43m)\u001b[49m\u001b[38;5;241m.\u001b[39msize()\u001b[38;5;241m.\u001b[39mreset_index(name\u001b[38;5;241m=\u001b[39m\u001b[38;5;124m'\u001b[39m\u001b[38;5;124mCrimeCount\u001b[39m\u001b[38;5;124m'\u001b[39m)\n\u001b[0;32m     26\u001b[0m \u001b[38;5;66;03m# Merge the crime counts with the map data\u001b[39;00m\n\u001b[0;32m     27\u001b[0m merged \u001b[38;5;241m=\u001b[39m map_df\u001b[38;5;241m.\u001b[39mmerge(grouped, on\u001b[38;5;241m=\u001b[39m[\u001b[38;5;124m'\u001b[39m\u001b[38;5;124mHOOD_158\u001b[39m\u001b[38;5;124m'\u001b[39m, \u001b[38;5;124m'\u001b[39m\u001b[38;5;124mNEIGHBOURHOOD_158\u001b[39m\u001b[38;5;124m'\u001b[39m, \u001b[38;5;124m'\u001b[39m\u001b[38;5;124mgeometry\u001b[39m\u001b[38;5;124m'\u001b[39m], how\u001b[38;5;241m=\u001b[39m\u001b[38;5;124m'\u001b[39m\u001b[38;5;124mleft\u001b[39m\u001b[38;5;124m'\u001b[39m)\n",
      "File \u001b[1;32m~\\AppData\\Local\\anaconda3\\lib\\site-packages\\pandas\\core\\frame.py:8402\u001b[0m, in \u001b[0;36mDataFrame.groupby\u001b[1;34m(self, by, axis, level, as_index, sort, group_keys, squeeze, observed, dropna)\u001b[0m\n\u001b[0;32m   8399\u001b[0m     \u001b[38;5;28;01mraise\u001b[39;00m \u001b[38;5;167;01mTypeError\u001b[39;00m(\u001b[38;5;124m\"\u001b[39m\u001b[38;5;124mYou have to supply one of \u001b[39m\u001b[38;5;124m'\u001b[39m\u001b[38;5;124mby\u001b[39m\u001b[38;5;124m'\u001b[39m\u001b[38;5;124m and \u001b[39m\u001b[38;5;124m'\u001b[39m\u001b[38;5;124mlevel\u001b[39m\u001b[38;5;124m'\u001b[39m\u001b[38;5;124m\"\u001b[39m)\n\u001b[0;32m   8400\u001b[0m axis \u001b[38;5;241m=\u001b[39m \u001b[38;5;28mself\u001b[39m\u001b[38;5;241m.\u001b[39m_get_axis_number(axis)\n\u001b[1;32m-> 8402\u001b[0m \u001b[38;5;28;01mreturn\u001b[39;00m \u001b[43mDataFrameGroupBy\u001b[49m\u001b[43m(\u001b[49m\n\u001b[0;32m   8403\u001b[0m \u001b[43m    \u001b[49m\u001b[43mobj\u001b[49m\u001b[38;5;241;43m=\u001b[39;49m\u001b[38;5;28;43mself\u001b[39;49m\u001b[43m,\u001b[49m\n\u001b[0;32m   8404\u001b[0m \u001b[43m    \u001b[49m\u001b[43mkeys\u001b[49m\u001b[38;5;241;43m=\u001b[39;49m\u001b[43mby\u001b[49m\u001b[43m,\u001b[49m\n\u001b[0;32m   8405\u001b[0m \u001b[43m    \u001b[49m\u001b[43maxis\u001b[49m\u001b[38;5;241;43m=\u001b[39;49m\u001b[43maxis\u001b[49m\u001b[43m,\u001b[49m\n\u001b[0;32m   8406\u001b[0m \u001b[43m    \u001b[49m\u001b[43mlevel\u001b[49m\u001b[38;5;241;43m=\u001b[39;49m\u001b[43mlevel\u001b[49m\u001b[43m,\u001b[49m\n\u001b[0;32m   8407\u001b[0m \u001b[43m    \u001b[49m\u001b[43mas_index\u001b[49m\u001b[38;5;241;43m=\u001b[39;49m\u001b[43mas_index\u001b[49m\u001b[43m,\u001b[49m\n\u001b[0;32m   8408\u001b[0m \u001b[43m    \u001b[49m\u001b[43msort\u001b[49m\u001b[38;5;241;43m=\u001b[39;49m\u001b[43msort\u001b[49m\u001b[43m,\u001b[49m\n\u001b[0;32m   8409\u001b[0m \u001b[43m    \u001b[49m\u001b[43mgroup_keys\u001b[49m\u001b[38;5;241;43m=\u001b[39;49m\u001b[43mgroup_keys\u001b[49m\u001b[43m,\u001b[49m\n\u001b[0;32m   8410\u001b[0m \u001b[43m    \u001b[49m\u001b[43msqueeze\u001b[49m\u001b[38;5;241;43m=\u001b[39;49m\u001b[43msqueeze\u001b[49m\u001b[43m,\u001b[49m\n\u001b[0;32m   8411\u001b[0m \u001b[43m    \u001b[49m\u001b[43mobserved\u001b[49m\u001b[38;5;241;43m=\u001b[39;49m\u001b[43mobserved\u001b[49m\u001b[43m,\u001b[49m\n\u001b[0;32m   8412\u001b[0m \u001b[43m    \u001b[49m\u001b[43mdropna\u001b[49m\u001b[38;5;241;43m=\u001b[39;49m\u001b[43mdropna\u001b[49m\u001b[43m,\u001b[49m\n\u001b[0;32m   8413\u001b[0m \u001b[43m\u001b[49m\u001b[43m)\u001b[49m\n",
      "File \u001b[1;32m~\\AppData\\Local\\anaconda3\\lib\\site-packages\\pandas\\core\\groupby\\groupby.py:965\u001b[0m, in \u001b[0;36mGroupBy.__init__\u001b[1;34m(self, obj, keys, axis, level, grouper, exclusions, selection, as_index, sort, group_keys, squeeze, observed, mutated, dropna)\u001b[0m\n\u001b[0;32m    962\u001b[0m \u001b[38;5;28;01mif\u001b[39;00m grouper \u001b[38;5;129;01mis\u001b[39;00m \u001b[38;5;28;01mNone\u001b[39;00m:\n\u001b[0;32m    963\u001b[0m     \u001b[38;5;28;01mfrom\u001b[39;00m \u001b[38;5;21;01mpandas\u001b[39;00m\u001b[38;5;21;01m.\u001b[39;00m\u001b[38;5;21;01mcore\u001b[39;00m\u001b[38;5;21;01m.\u001b[39;00m\u001b[38;5;21;01mgroupby\u001b[39;00m\u001b[38;5;21;01m.\u001b[39;00m\u001b[38;5;21;01mgrouper\u001b[39;00m \u001b[38;5;28;01mimport\u001b[39;00m get_grouper\n\u001b[1;32m--> 965\u001b[0m     grouper, exclusions, obj \u001b[38;5;241m=\u001b[39m \u001b[43mget_grouper\u001b[49m\u001b[43m(\u001b[49m\n\u001b[0;32m    966\u001b[0m \u001b[43m        \u001b[49m\u001b[43mobj\u001b[49m\u001b[43m,\u001b[49m\n\u001b[0;32m    967\u001b[0m \u001b[43m        \u001b[49m\u001b[43mkeys\u001b[49m\u001b[43m,\u001b[49m\n\u001b[0;32m    968\u001b[0m \u001b[43m        \u001b[49m\u001b[43maxis\u001b[49m\u001b[38;5;241;43m=\u001b[39;49m\u001b[43maxis\u001b[49m\u001b[43m,\u001b[49m\n\u001b[0;32m    969\u001b[0m \u001b[43m        \u001b[49m\u001b[43mlevel\u001b[49m\u001b[38;5;241;43m=\u001b[39;49m\u001b[43mlevel\u001b[49m\u001b[43m,\u001b[49m\n\u001b[0;32m    970\u001b[0m \u001b[43m        \u001b[49m\u001b[43msort\u001b[49m\u001b[38;5;241;43m=\u001b[39;49m\u001b[43msort\u001b[49m\u001b[43m,\u001b[49m\n\u001b[0;32m    971\u001b[0m \u001b[43m        \u001b[49m\u001b[43mobserved\u001b[49m\u001b[38;5;241;43m=\u001b[39;49m\u001b[43mobserved\u001b[49m\u001b[43m,\u001b[49m\n\u001b[0;32m    972\u001b[0m \u001b[43m        \u001b[49m\u001b[43mmutated\u001b[49m\u001b[38;5;241;43m=\u001b[39;49m\u001b[38;5;28;43mself\u001b[39;49m\u001b[38;5;241;43m.\u001b[39;49m\u001b[43mmutated\u001b[49m\u001b[43m,\u001b[49m\n\u001b[0;32m    973\u001b[0m \u001b[43m        \u001b[49m\u001b[43mdropna\u001b[49m\u001b[38;5;241;43m=\u001b[39;49m\u001b[38;5;28;43mself\u001b[39;49m\u001b[38;5;241;43m.\u001b[39;49m\u001b[43mdropna\u001b[49m\u001b[43m,\u001b[49m\n\u001b[0;32m    974\u001b[0m \u001b[43m    \u001b[49m\u001b[43m)\u001b[49m\n\u001b[0;32m    976\u001b[0m \u001b[38;5;28mself\u001b[39m\u001b[38;5;241m.\u001b[39mobj \u001b[38;5;241m=\u001b[39m obj\n\u001b[0;32m    977\u001b[0m \u001b[38;5;28mself\u001b[39m\u001b[38;5;241m.\u001b[39maxis \u001b[38;5;241m=\u001b[39m obj\u001b[38;5;241m.\u001b[39m_get_axis_number(axis)\n",
      "File \u001b[1;32m~\\AppData\\Local\\anaconda3\\lib\\site-packages\\pandas\\core\\groupby\\grouper.py:888\u001b[0m, in \u001b[0;36mget_grouper\u001b[1;34m(obj, key, axis, level, sort, observed, mutated, validate, dropna)\u001b[0m\n\u001b[0;32m    886\u001b[0m         in_axis, level, gpr \u001b[38;5;241m=\u001b[39m \u001b[38;5;28;01mFalse\u001b[39;00m, gpr, \u001b[38;5;28;01mNone\u001b[39;00m\n\u001b[0;32m    887\u001b[0m     \u001b[38;5;28;01melse\u001b[39;00m:\n\u001b[1;32m--> 888\u001b[0m         \u001b[38;5;28;01mraise\u001b[39;00m \u001b[38;5;167;01mKeyError\u001b[39;00m(gpr)\n\u001b[0;32m    889\u001b[0m \u001b[38;5;28;01melif\u001b[39;00m \u001b[38;5;28misinstance\u001b[39m(gpr, Grouper) \u001b[38;5;129;01mand\u001b[39;00m gpr\u001b[38;5;241m.\u001b[39mkey \u001b[38;5;129;01mis\u001b[39;00m \u001b[38;5;129;01mnot\u001b[39;00m \u001b[38;5;28;01mNone\u001b[39;00m:\n\u001b[0;32m    890\u001b[0m     \u001b[38;5;66;03m# Add key to exclusions\u001b[39;00m\n\u001b[0;32m    891\u001b[0m     exclusions\u001b[38;5;241m.\u001b[39madd(gpr\u001b[38;5;241m.\u001b[39mkey)\n",
      "\u001b[1;31mKeyError\u001b[0m: 'NEIGHBOURHOOD_158'"
     ]
    }
   ],
   "source": [
    "import geopandas as gpd\n",
    "import matplotlib.pyplot as plt\n",
    "\n",
    "# Load the data with geographic coordinates (X, Y) and the predictions\n",
    "# Create a copy of the test data with corresponding predictions\n",
    "data = X_test_code.copy()\n",
    "data['UCR_CODE'] = y_test_code\n",
    "data['UCR_EXT'] = y_test_ext\n",
    "data['Predicted_UCR_CODE'] = predictions_UCR_CODE\n",
    "data['Predicted_UCR_EXT'] = predictions_UCR_EXT\n",
    "\n",
    "# Create a GeoDataFrame from the data\n",
    "geometry = gpd.points_from_xy(data['X'], data['Y'])\n",
    "gdf = gpd.GeoDataFrame(data, geometry=geometry)\n",
    "\n",
    "# Load the shapefile or any other spatial data that contains the boundaries\n",
    "shapefile_path = \"C:\\ml\\Major_Crime_Indicators_Open_Data.shp\"\n",
    "map_df = gpd.read_file(shapefile_path)\n",
    "\n",
    "# Perform a spatial join to associate each crime point with its corresponding boundary\n",
    "joined_df = gpd.sjoin(gdf, map_df, how='left', op='within')\n",
    "\n",
    "# Group the data by the boundaries and calculate the count of crimes\n",
    "grouped = joined_df.groupby(['HOOD_158', 'NEIGHBOURHOOD_158', 'geometry']).size().reset_index(name='CrimeCount')\n",
    "\n",
    "# Merge the crime counts with the map data\n",
    "merged = map_df.merge(grouped, on=['HOOD_158', 'NEIGHBOURHOOD_158', 'geometry'], how='left')\n",
    "\n",
    "# Fill missing values with zero\n",
    "merged['CrimeCount'].fillna(0, inplace=True)\n",
    "\n",
    "# Plot the heatmap\n",
    "fig, ax = plt.subplots(figsize=(12, 8))\n",
    "merged.plot(column='CrimeCount', cmap='hot_r', linewidth=0.8, ax=ax, edgecolor='0.8', legend=True)\n",
    "\n",
    "# Set the title and axis labels\n",
    "plt.title('Crime Heatmap')\n",
    "plt.xlabel('Longitude')\n",
    "plt.ylabel('Latitude')\n",
    "\n",
    "# Show the plot\n",
    "plt.show()\n"
   ]
  },
  {
   "cell_type": "code",
   "execution_count": 35,
   "id": "beea1d1e-4a4a-49c5-9c06-4f15b79e4445",
   "metadata": {
    "execution": {
     "iopub.execute_input": "2023-05-19T02:36:43.772420Z",
     "iopub.status.busy": "2023-05-19T02:36:43.771452Z",
     "iopub.status.idle": "2023-05-19T02:36:43.853125Z",
     "shell.execute_reply": "2023-05-19T02:36:43.852124Z",
     "shell.execute_reply.started": "2023-05-19T02:36:43.772420Z"
    },
    "tags": []
   },
   "outputs": [
    {
     "ename": "KeyError",
     "evalue": "['LAT_WGS84', 'LONG_WGS84']",
     "output_type": "error",
     "traceback": [
      "\u001b[1;31m---------------------------------------------------------------------------\u001b[0m",
      "\u001b[1;31mKeyError\u001b[0m                                  Traceback (most recent call last)",
      "Cell \u001b[1;32mIn[35], line 12\u001b[0m\n\u001b[0;32m      9\u001b[0m toronto_map \u001b[38;5;241m=\u001b[39m folium\u001b[38;5;241m.\u001b[39mMap(location\u001b[38;5;241m=\u001b[39m[\u001b[38;5;241m43.651070\u001b[39m, \u001b[38;5;241m-\u001b[39m\u001b[38;5;241m79.347015\u001b[39m], zoom_start\u001b[38;5;241m=\u001b[39m\u001b[38;5;241m11\u001b[39m)\n\u001b[0;32m     11\u001b[0m \u001b[38;5;66;03m# Filter out rows with missing latitude or longitude values\u001b[39;00m\n\u001b[1;32m---> 12\u001b[0m data \u001b[38;5;241m=\u001b[39m \u001b[43mdata\u001b[49m\u001b[38;5;241;43m.\u001b[39;49m\u001b[43mdropna\u001b[49m\u001b[43m(\u001b[49m\u001b[43msubset\u001b[49m\u001b[38;5;241;43m=\u001b[39;49m\u001b[43m[\u001b[49m\u001b[38;5;124;43m'\u001b[39;49m\u001b[38;5;124;43mLAT_WGS84\u001b[39;49m\u001b[38;5;124;43m'\u001b[39;49m\u001b[43m,\u001b[49m\u001b[43m \u001b[49m\u001b[38;5;124;43m'\u001b[39;49m\u001b[38;5;124;43mLONG_WGS84\u001b[39;49m\u001b[38;5;124;43m'\u001b[39;49m\u001b[43m]\u001b[49m\u001b[43m)\u001b[49m\n\u001b[0;32m     14\u001b[0m \u001b[38;5;66;03m# Create a HeatMap layer using the latitude and longitude columns\u001b[39;00m\n\u001b[0;32m     15\u001b[0m heat_data \u001b[38;5;241m=\u001b[39m [[row[\u001b[38;5;124m'\u001b[39m\u001b[38;5;124mLAT_WGS84\u001b[39m\u001b[38;5;124m'\u001b[39m], row[\u001b[38;5;124m'\u001b[39m\u001b[38;5;124mLONG_WGS84\u001b[39m\u001b[38;5;124m'\u001b[39m]] \u001b[38;5;28;01mfor\u001b[39;00m index, row \u001b[38;5;129;01min\u001b[39;00m data\u001b[38;5;241m.\u001b[39miterrows()]\n",
      "File \u001b[1;32m~\\AppData\\Local\\anaconda3\\lib\\site-packages\\pandas\\util\\_decorators.py:331\u001b[0m, in \u001b[0;36mdeprecate_nonkeyword_arguments.<locals>.decorate.<locals>.wrapper\u001b[1;34m(*args, **kwargs)\u001b[0m\n\u001b[0;32m    325\u001b[0m \u001b[38;5;28;01mif\u001b[39;00m \u001b[38;5;28mlen\u001b[39m(args) \u001b[38;5;241m>\u001b[39m num_allow_args:\n\u001b[0;32m    326\u001b[0m     warnings\u001b[38;5;241m.\u001b[39mwarn(\n\u001b[0;32m    327\u001b[0m         msg\u001b[38;5;241m.\u001b[39mformat(arguments\u001b[38;5;241m=\u001b[39m_format_argument_list(allow_args)),\n\u001b[0;32m    328\u001b[0m         \u001b[38;5;167;01mFutureWarning\u001b[39;00m,\n\u001b[0;32m    329\u001b[0m         stacklevel\u001b[38;5;241m=\u001b[39mfind_stack_level(),\n\u001b[0;32m    330\u001b[0m     )\n\u001b[1;32m--> 331\u001b[0m \u001b[38;5;28;01mreturn\u001b[39;00m func(\u001b[38;5;241m*\u001b[39margs, \u001b[38;5;241m*\u001b[39m\u001b[38;5;241m*\u001b[39mkwargs)\n",
      "File \u001b[1;32m~\\AppData\\Local\\anaconda3\\lib\\site-packages\\pandas\\core\\frame.py:6561\u001b[0m, in \u001b[0;36mDataFrame.dropna\u001b[1;34m(self, axis, how, thresh, subset, inplace)\u001b[0m\n\u001b[0;32m   6559\u001b[0m     check \u001b[38;5;241m=\u001b[39m indices \u001b[38;5;241m==\u001b[39m \u001b[38;5;241m-\u001b[39m\u001b[38;5;241m1\u001b[39m\n\u001b[0;32m   6560\u001b[0m     \u001b[38;5;28;01mif\u001b[39;00m check\u001b[38;5;241m.\u001b[39many():\n\u001b[1;32m-> 6561\u001b[0m         \u001b[38;5;28;01mraise\u001b[39;00m \u001b[38;5;167;01mKeyError\u001b[39;00m(np\u001b[38;5;241m.\u001b[39marray(subset)[check]\u001b[38;5;241m.\u001b[39mtolist())\n\u001b[0;32m   6562\u001b[0m     agg_obj \u001b[38;5;241m=\u001b[39m \u001b[38;5;28mself\u001b[39m\u001b[38;5;241m.\u001b[39mtake(indices, axis\u001b[38;5;241m=\u001b[39magg_axis)\n\u001b[0;32m   6564\u001b[0m \u001b[38;5;28;01mif\u001b[39;00m thresh \u001b[38;5;129;01mis\u001b[39;00m \u001b[38;5;129;01mnot\u001b[39;00m no_default:\n",
      "\u001b[1;31mKeyError\u001b[0m: ['LAT_WGS84', 'LONG_WGS84']"
     ]
    }
   ],
   "source": [
    "import pandas as pd\n",
    "import folium\n",
    "from folium.plugins import HeatMap\n",
    "\n",
    "# Load the data with geographic coordinates (X, Y)\n",
    "data = X_test_code.copy()\n",
    "\n",
    "# Create a folium map centered on Toronto\n",
    "toronto_map = folium.Map(location=[43.651070, -79.347015], zoom_start=11)\n",
    "\n",
    "# Filter out rows with missing latitude or longitude values\n",
    "data = data.dropna(subset=['LAT_WGS84', 'LONG_WGS84'])\n",
    "\n",
    "# Create a HeatMap layer using the latitude and longitude columns\n",
    "heat_data = [[row['LAT_WGS84'], row['LONG_WGS84']] for index, row in data.iterrows()]\n",
    "HeatMap(heat_data).add_to(toronto_map)\n",
    "\n",
    "# Display the map\n",
    "toronto_map\n"
   ]
  }
 ],
 "metadata": {
  "kernelspec": {
   "display_name": "Python 3 (ipykernel)",
   "language": "python",
   "name": "python3"
  },
  "language_info": {
   "codemirror_mode": {
    "name": "ipython",
    "version": 3
   },
   "file_extension": ".py",
   "mimetype": "text/x-python",
   "name": "python",
   "nbconvert_exporter": "python",
   "pygments_lexer": "ipython3",
   "version": "3.10.10"
  }
 },
 "nbformat": 4,
 "nbformat_minor": 5
}
