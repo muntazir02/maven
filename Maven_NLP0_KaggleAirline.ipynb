{
 "cells": [
  {
   "cell_type": "markdown",
   "id": "35238c00-e81e-4f47-8bd4-7c811619be03",
   "metadata": {
    "tags": []
   },
   "source": [
    "# Maven NLP Course\n",
    "Assignment 1, 10 May 2023\n",
    "https://www.kaggle.com/datasets/crowdflower/twitter-airline-sentiment"
   ]
  },
  {
   "cell_type": "markdown",
   "id": "5349fcfd-be8c-4fd6-bb67-953ac3369aee",
   "metadata": {
    "jp-MarkdownHeadingCollapsed": true,
    "tags": []
   },
   "source": [
    "## Import Libraries"
   ]
  },
  {
   "cell_type": "code",
   "execution_count": 21,
   "id": "9ccca367-d41e-4c25-996d-42ad799c1845",
   "metadata": {
    "execution": {
     "iopub.execute_input": "2023-05-11T03:05:16.620029Z",
     "iopub.status.busy": "2023-05-11T03:05:16.620029Z",
     "iopub.status.idle": "2023-05-11T03:05:16.635654Z",
     "shell.execute_reply": "2023-05-11T03:05:16.635654Z",
     "shell.execute_reply.started": "2023-05-11T03:05:16.620029Z"
    },
    "tags": []
   },
   "outputs": [],
   "source": [
    "import pandas as pd\n",
    "import seaborn as sns\n",
    "import re, nltk\n",
    "import matplotlib.pyplot as plt \n",
    "from sklearn.model_selection import train_test_split, StratifiedKFold, cross_val_score\n",
    "from sklearn import model_selection, naive_bayes, svm\n",
    "from sklearn.metrics import classification_report,confusion_matrix\n",
    "from sklearn.metrics import roc_auc_score\n",
    "from sklearn.metrics import recall_score\n",
    "from sklearn.metrics import f1_score\n",
    "from sklearn.metrics import confusion_matrix, accuracy_score\n",
    "from sklearn.model_selection import GridSearchCV\n",
    "from sklearn.metrics import precision_recall_curve\n",
    "from sklearn.metrics import f1_score\n",
    "from sklearn.metrics import auc\n",
    "from matplotlib import pyplot\n",
    "from sklearn.metrics import roc_curve\n",
    "from sklearn.metrics import roc_auc_score, accuracy_score\n",
    "import string\n",
    "from nltk.corpus import stopwords\n",
    "from sklearn.feature_extraction.text import CountVectorizer, TfidfVectorizer\n",
    "from sklearn.naive_bayes import MultinomialNB, GaussianNB\n",
    "from sklearn.metrics import f1_score\n",
    "from sklearn.ensemble import AdaBoostClassifier\n",
    "from sklearn.model_selection import cross_val_score\n",
    "import numpy as np\n",
    "from sklearn.ensemble import BaggingClassifier\n",
    "from sklearn.ensemble import RandomForestClassifier\n",
    "from lime import lime_tabular\n",
    "from tensorflow.keras.layers import Embedding\n",
    "from tensorflow.keras.preprocessing.sequence import pad_sequences\n",
    "from tensorflow.keras.models import Sequential\n",
    "from tensorflow.keras.preprocessing.text import one_hot\n",
    "from tensorflow.keras.layers import LSTM, Bidirectional\n",
    "from tensorflow.keras.layers import Dense, Dropout\n",
    "\n",
    "import warnings\n",
    "warnings.filterwarnings('ignore')"
   ]
  },
  {
   "cell_type": "code",
   "execution_count": null,
   "id": "3e98a6b8-f905-4535-9a53-6687171ea04b",
   "metadata": {},
   "outputs": [],
   "source": [
    "nltk.download('punkt')\n",
    "nltk.download('stopwords')"
   ]
  },
  {
   "cell_type": "markdown",
   "id": "c756b101-8558-488e-98b3-c780faef37ef",
   "metadata": {
    "tags": []
   },
   "source": [
    "## Read & Review Data"
   ]
  },
  {
   "cell_type": "code",
   "execution_count": 24,
   "id": "70f28b62-691b-4412-a3d8-af623be07c0c",
   "metadata": {
    "collapsed": true,
    "execution": {
     "iopub.execute_input": "2023-05-11T03:10:38.670551Z",
     "iopub.status.busy": "2023-05-11T03:10:38.670551Z",
     "iopub.status.idle": "2023-05-11T03:10:38.811572Z",
     "shell.execute_reply": "2023-05-11T03:10:38.811572Z",
     "shell.execute_reply.started": "2023-05-11T03:10:38.670551Z"
    },
    "jupyter": {
     "outputs_hidden": true
    },
    "tags": []
   },
   "outputs": [
    {
     "data": {
      "text/html": [
       "<div>\n",
       "<style scoped>\n",
       "    .dataframe tbody tr th:only-of-type {\n",
       "        vertical-align: middle;\n",
       "    }\n",
       "\n",
       "    .dataframe tbody tr th {\n",
       "        vertical-align: top;\n",
       "    }\n",
       "\n",
       "    .dataframe thead th {\n",
       "        text-align: right;\n",
       "    }\n",
       "</style>\n",
       "<table border=\"1\" class=\"dataframe\">\n",
       "  <thead>\n",
       "    <tr style=\"text-align: right;\">\n",
       "      <th></th>\n",
       "      <th>tweet_id</th>\n",
       "      <th>airline_sentiment</th>\n",
       "      <th>airline_sentiment_confidence</th>\n",
       "      <th>negativereason</th>\n",
       "      <th>negativereason_confidence</th>\n",
       "      <th>airline</th>\n",
       "      <th>airline_sentiment_gold</th>\n",
       "      <th>name</th>\n",
       "      <th>negativereason_gold</th>\n",
       "      <th>retweet_count</th>\n",
       "      <th>text</th>\n",
       "      <th>tweet_coord</th>\n",
       "      <th>tweet_created</th>\n",
       "      <th>tweet_location</th>\n",
       "      <th>user_timezone</th>\n",
       "    </tr>\n",
       "  </thead>\n",
       "  <tbody>\n",
       "    <tr>\n",
       "      <th>0</th>\n",
       "      <td>570306133677760513</td>\n",
       "      <td>neutral</td>\n",
       "      <td>1.0000</td>\n",
       "      <td>NaN</td>\n",
       "      <td>NaN</td>\n",
       "      <td>Virgin America</td>\n",
       "      <td>NaN</td>\n",
       "      <td>cairdin</td>\n",
       "      <td>NaN</td>\n",
       "      <td>0</td>\n",
       "      <td>@VirginAmerica What @dhepburn said.</td>\n",
       "      <td>NaN</td>\n",
       "      <td>2015-02-24 11:35:52 -0800</td>\n",
       "      <td>NaN</td>\n",
       "      <td>Eastern Time (US &amp; Canada)</td>\n",
       "    </tr>\n",
       "    <tr>\n",
       "      <th>1</th>\n",
       "      <td>570301130888122368</td>\n",
       "      <td>positive</td>\n",
       "      <td>0.3486</td>\n",
       "      <td>NaN</td>\n",
       "      <td>0.0000</td>\n",
       "      <td>Virgin America</td>\n",
       "      <td>NaN</td>\n",
       "      <td>jnardino</td>\n",
       "      <td>NaN</td>\n",
       "      <td>0</td>\n",
       "      <td>@VirginAmerica plus you've added commercials t...</td>\n",
       "      <td>NaN</td>\n",
       "      <td>2015-02-24 11:15:59 -0800</td>\n",
       "      <td>NaN</td>\n",
       "      <td>Pacific Time (US &amp; Canada)</td>\n",
       "    </tr>\n",
       "    <tr>\n",
       "      <th>2</th>\n",
       "      <td>570301083672813571</td>\n",
       "      <td>neutral</td>\n",
       "      <td>0.6837</td>\n",
       "      <td>NaN</td>\n",
       "      <td>NaN</td>\n",
       "      <td>Virgin America</td>\n",
       "      <td>NaN</td>\n",
       "      <td>yvonnalynn</td>\n",
       "      <td>NaN</td>\n",
       "      <td>0</td>\n",
       "      <td>@VirginAmerica I didn't today... Must mean I n...</td>\n",
       "      <td>NaN</td>\n",
       "      <td>2015-02-24 11:15:48 -0800</td>\n",
       "      <td>Lets Play</td>\n",
       "      <td>Central Time (US &amp; Canada)</td>\n",
       "    </tr>\n",
       "    <tr>\n",
       "      <th>3</th>\n",
       "      <td>570301031407624196</td>\n",
       "      <td>negative</td>\n",
       "      <td>1.0000</td>\n",
       "      <td>Bad Flight</td>\n",
       "      <td>0.7033</td>\n",
       "      <td>Virgin America</td>\n",
       "      <td>NaN</td>\n",
       "      <td>jnardino</td>\n",
       "      <td>NaN</td>\n",
       "      <td>0</td>\n",
       "      <td>@VirginAmerica it's really aggressive to blast...</td>\n",
       "      <td>NaN</td>\n",
       "      <td>2015-02-24 11:15:36 -0800</td>\n",
       "      <td>NaN</td>\n",
       "      <td>Pacific Time (US &amp; Canada)</td>\n",
       "    </tr>\n",
       "    <tr>\n",
       "      <th>4</th>\n",
       "      <td>570300817074462722</td>\n",
       "      <td>negative</td>\n",
       "      <td>1.0000</td>\n",
       "      <td>Can't Tell</td>\n",
       "      <td>1.0000</td>\n",
       "      <td>Virgin America</td>\n",
       "      <td>NaN</td>\n",
       "      <td>jnardino</td>\n",
       "      <td>NaN</td>\n",
       "      <td>0</td>\n",
       "      <td>@VirginAmerica and it's a really big bad thing...</td>\n",
       "      <td>NaN</td>\n",
       "      <td>2015-02-24 11:14:45 -0800</td>\n",
       "      <td>NaN</td>\n",
       "      <td>Pacific Time (US &amp; Canada)</td>\n",
       "    </tr>\n",
       "  </tbody>\n",
       "</table>\n",
       "</div>"
      ],
      "text/plain": [
       "             tweet_id airline_sentiment  airline_sentiment_confidence  \\\n",
       "0  570306133677760513           neutral                        1.0000   \n",
       "1  570301130888122368          positive                        0.3486   \n",
       "2  570301083672813571           neutral                        0.6837   \n",
       "3  570301031407624196          negative                        1.0000   \n",
       "4  570300817074462722          negative                        1.0000   \n",
       "\n",
       "  negativereason  negativereason_confidence         airline  \\\n",
       "0            NaN                        NaN  Virgin America   \n",
       "1            NaN                     0.0000  Virgin America   \n",
       "2            NaN                        NaN  Virgin America   \n",
       "3     Bad Flight                     0.7033  Virgin America   \n",
       "4     Can't Tell                     1.0000  Virgin America   \n",
       "\n",
       "  airline_sentiment_gold        name negativereason_gold  retweet_count  \\\n",
       "0                    NaN     cairdin                 NaN              0   \n",
       "1                    NaN    jnardino                 NaN              0   \n",
       "2                    NaN  yvonnalynn                 NaN              0   \n",
       "3                    NaN    jnardino                 NaN              0   \n",
       "4                    NaN    jnardino                 NaN              0   \n",
       "\n",
       "                                                text tweet_coord  \\\n",
       "0                @VirginAmerica What @dhepburn said.         NaN   \n",
       "1  @VirginAmerica plus you've added commercials t...         NaN   \n",
       "2  @VirginAmerica I didn't today... Must mean I n...         NaN   \n",
       "3  @VirginAmerica it's really aggressive to blast...         NaN   \n",
       "4  @VirginAmerica and it's a really big bad thing...         NaN   \n",
       "\n",
       "               tweet_created tweet_location               user_timezone  \n",
       "0  2015-02-24 11:35:52 -0800            NaN  Eastern Time (US & Canada)  \n",
       "1  2015-02-24 11:15:59 -0800            NaN  Pacific Time (US & Canada)  \n",
       "2  2015-02-24 11:15:48 -0800      Lets Play  Central Time (US & Canada)  \n",
       "3  2015-02-24 11:15:36 -0800            NaN  Pacific Time (US & Canada)  \n",
       "4  2015-02-24 11:14:45 -0800            NaN  Pacific Time (US & Canada)  "
      ]
     },
     "execution_count": 24,
     "metadata": {},
     "output_type": "execute_result"
    }
   ],
   "source": [
    "import os\n",
    "import pandas as pd\n",
    "\n",
    "downloads_folder = os.path.join(os.path.expanduser('~'), 'Downloads')\n",
    "file_path = os.path.join(downloads_folder, 'Tweets.csv')\n",
    "\n",
    "twitter_df = pd.read_csv(file_path)\n",
    "twitter_df.head()"
   ]
  },
  {
   "cell_type": "code",
   "execution_count": 26,
   "id": "29186bec-7ed2-4f2c-8d9c-7d81aa93e018",
   "metadata": {
    "execution": {
     "iopub.execute_input": "2023-05-11T03:11:08.606131Z",
     "iopub.status.busy": "2023-05-11T03:11:08.606131Z",
     "iopub.status.idle": "2023-05-11T03:11:08.621773Z",
     "shell.execute_reply": "2023-05-11T03:11:08.621773Z",
     "shell.execute_reply.started": "2023-05-11T03:11:08.606131Z"
    },
    "tags": []
   },
   "outputs": [
    {
     "data": {
      "text/plain": [
       "Index(['tweet_id', 'airline_sentiment', 'airline_sentiment_confidence',\n",
       "       'negativereason', 'negativereason_confidence', 'airline',\n",
       "       'airline_sentiment_gold', 'name', 'negativereason_gold',\n",
       "       'retweet_count', 'text', 'tweet_coord', 'tweet_created',\n",
       "       'tweet_location', 'user_timezone'],\n",
       "      dtype='object')"
      ]
     },
     "execution_count": 26,
     "metadata": {},
     "output_type": "execute_result"
    }
   ],
   "source": [
    "twitter_df.columns"
   ]
  },
  {
   "cell_type": "code",
   "execution_count": 27,
   "id": "14680d75-4347-47e7-9d60-88a3795fc1dd",
   "metadata": {
    "execution": {
     "iopub.execute_input": "2023-05-11T03:11:10.028834Z",
     "iopub.status.busy": "2023-05-11T03:11:10.028834Z",
     "iopub.status.idle": "2023-05-11T03:11:10.044763Z",
     "shell.execute_reply": "2023-05-11T03:11:10.044763Z",
     "shell.execute_reply.started": "2023-05-11T03:11:10.028834Z"
    }
   },
   "outputs": [
    {
     "data": {
      "text/plain": [
       "(14640, 15)"
      ]
     },
     "execution_count": 27,
     "metadata": {},
     "output_type": "execute_result"
    }
   ],
   "source": [
    "twitter_df.shape"
   ]
  },
  {
   "cell_type": "code",
   "execution_count": 28,
   "id": "81e3c5f2-5251-4bab-a43c-cc83bb081c69",
   "metadata": {
    "execution": {
     "iopub.execute_input": "2023-05-11T03:11:19.228443Z",
     "iopub.status.busy": "2023-05-11T03:11:19.228443Z",
     "iopub.status.idle": "2023-05-11T03:11:19.275328Z",
     "shell.execute_reply": "2023-05-11T03:11:19.275328Z",
     "shell.execute_reply.started": "2023-05-11T03:11:19.228443Z"
    }
   },
   "outputs": [
    {
     "data": {
      "text/plain": [
       "tweet_id                            0\n",
       "airline_sentiment                   0\n",
       "airline_sentiment_confidence        0\n",
       "negativereason                   5462\n",
       "negativereason_confidence        4118\n",
       "airline                             0\n",
       "airline_sentiment_gold          14600\n",
       "name                                0\n",
       "negativereason_gold             14608\n",
       "retweet_count                       0\n",
       "text                                0\n",
       "tweet_coord                     13621\n",
       "tweet_created                       0\n",
       "tweet_location                   4733\n",
       "user_timezone                    4820\n",
       "dtype: int64"
      ]
     },
     "execution_count": 28,
     "metadata": {},
     "output_type": "execute_result"
    }
   ],
   "source": [
    "twitter_df.isnull().sum()"
   ]
  },
  {
   "cell_type": "code",
   "execution_count": 29,
   "id": "44171c6b-7c23-4aab-8dff-aa65a5de1de3",
   "metadata": {
    "execution": {
     "iopub.execute_input": "2023-05-11T03:11:27.389075Z",
     "iopub.status.busy": "2023-05-11T03:11:27.389075Z",
     "iopub.status.idle": "2023-05-11T03:11:27.435953Z",
     "shell.execute_reply": "2023-05-11T03:11:27.435953Z",
     "shell.execute_reply.started": "2023-05-11T03:11:27.389075Z"
    }
   },
   "outputs": [
    {
     "data": {
      "text/plain": [
       "36"
      ]
     },
     "execution_count": 29,
     "metadata": {},
     "output_type": "execute_result"
    }
   ],
   "source": [
    "# Check for and count the number of duplicate rows in the twitter_df DataFrame\n",
    "twitter_df.duplicated().sum()"
   ]
  },
  {
   "cell_type": "code",
   "execution_count": 31,
   "id": "9564930e-b80f-403b-92a9-9a3180343401",
   "metadata": {
    "execution": {
     "iopub.execute_input": "2023-05-11T03:13:06.375163Z",
     "iopub.status.busy": "2023-05-11T03:13:06.375163Z",
     "iopub.status.idle": "2023-05-11T03:13:06.393444Z",
     "shell.execute_reply": "2023-05-11T03:13:06.392437Z",
     "shell.execute_reply.started": "2023-05-11T03:13:06.375163Z"
    },
    "tags": []
   },
   "outputs": [
    {
     "data": {
      "text/plain": [
       "array(['neutral', 'positive', 'negative'], dtype=object)"
      ]
     },
     "execution_count": 31,
     "metadata": {},
     "output_type": "execute_result"
    }
   ],
   "source": [
    "# Unique values of sentiment\n",
    "twitter_df['airline_sentiment'].unique()"
   ]
  },
  {
   "cell_type": "code",
   "execution_count": 33,
   "id": "ec54fb76-45c9-44ca-a1bb-2b401d9355f9",
   "metadata": {
    "execution": {
     "iopub.execute_input": "2023-05-11T03:13:24.354142Z",
     "iopub.status.busy": "2023-05-11T03:13:24.354142Z",
     "iopub.status.idle": "2023-05-11T03:13:24.385219Z",
     "shell.execute_reply": "2023-05-11T03:13:24.385219Z",
     "shell.execute_reply.started": "2023-05-11T03:13:24.354142Z"
    },
    "tags": []
   },
   "outputs": [
    {
     "data": {
      "text/plain": [
       "negative    9178\n",
       "neutral     3099\n",
       "positive    2363\n",
       "Name: airline_sentiment, dtype: int64"
      ]
     },
     "execution_count": 33,
     "metadata": {},
     "output_type": "execute_result"
    }
   ],
   "source": [
    "twitter_df['airline_sentiment'].value_counts()"
   ]
  },
  {
   "cell_type": "code",
   "execution_count": 34,
   "id": "01af010e-00df-4037-8bb6-fd3535f120ee",
   "metadata": {
    "execution": {
     "iopub.execute_input": "2023-05-11T03:13:25.437728Z",
     "iopub.status.busy": "2023-05-11T03:13:25.437728Z",
     "iopub.status.idle": "2023-05-11T03:13:25.485019Z",
     "shell.execute_reply": "2023-05-11T03:13:25.485019Z",
     "shell.execute_reply.started": "2023-05-11T03:13:25.437728Z"
    }
   },
   "outputs": [
    {
     "data": {
      "text/html": [
       "<div>\n",
       "<style scoped>\n",
       "    .dataframe tbody tr th:only-of-type {\n",
       "        vertical-align: middle;\n",
       "    }\n",
       "\n",
       "    .dataframe tbody tr th {\n",
       "        vertical-align: top;\n",
       "    }\n",
       "\n",
       "    .dataframe thead th {\n",
       "        text-align: right;\n",
       "    }\n",
       "</style>\n",
       "<table border=\"1\" class=\"dataframe\">\n",
       "  <thead>\n",
       "    <tr style=\"text-align: right;\">\n",
       "      <th></th>\n",
       "      <th>count</th>\n",
       "      <th>mean</th>\n",
       "      <th>std</th>\n",
       "      <th>min</th>\n",
       "      <th>25%</th>\n",
       "      <th>50%</th>\n",
       "      <th>75%</th>\n",
       "      <th>max</th>\n",
       "    </tr>\n",
       "  </thead>\n",
       "  <tbody>\n",
       "    <tr>\n",
       "      <th>tweet_id</th>\n",
       "      <td>14640.0</td>\n",
       "      <td>5.692184e+17</td>\n",
       "      <td>7.791112e+14</td>\n",
       "      <td>5.675883e+17</td>\n",
       "      <td>5.685592e+17</td>\n",
       "      <td>5.694779e+17</td>\n",
       "      <td>5.698905e+17</td>\n",
       "      <td>5.703106e+17</td>\n",
       "    </tr>\n",
       "    <tr>\n",
       "      <th>airline_sentiment_confidence</th>\n",
       "      <td>14640.0</td>\n",
       "      <td>9.001689e-01</td>\n",
       "      <td>1.628300e-01</td>\n",
       "      <td>3.350000e-01</td>\n",
       "      <td>6.923000e-01</td>\n",
       "      <td>1.000000e+00</td>\n",
       "      <td>1.000000e+00</td>\n",
       "      <td>1.000000e+00</td>\n",
       "    </tr>\n",
       "    <tr>\n",
       "      <th>negativereason_confidence</th>\n",
       "      <td>10522.0</td>\n",
       "      <td>6.382983e-01</td>\n",
       "      <td>3.304398e-01</td>\n",
       "      <td>0.000000e+00</td>\n",
       "      <td>3.606000e-01</td>\n",
       "      <td>6.706000e-01</td>\n",
       "      <td>1.000000e+00</td>\n",
       "      <td>1.000000e+00</td>\n",
       "    </tr>\n",
       "    <tr>\n",
       "      <th>retweet_count</th>\n",
       "      <td>14640.0</td>\n",
       "      <td>8.265027e-02</td>\n",
       "      <td>7.457782e-01</td>\n",
       "      <td>0.000000e+00</td>\n",
       "      <td>0.000000e+00</td>\n",
       "      <td>0.000000e+00</td>\n",
       "      <td>0.000000e+00</td>\n",
       "      <td>4.400000e+01</td>\n",
       "    </tr>\n",
       "  </tbody>\n",
       "</table>\n",
       "</div>"
      ],
      "text/plain": [
       "                                count          mean           std  \\\n",
       "tweet_id                      14640.0  5.692184e+17  7.791112e+14   \n",
       "airline_sentiment_confidence  14640.0  9.001689e-01  1.628300e-01   \n",
       "negativereason_confidence     10522.0  6.382983e-01  3.304398e-01   \n",
       "retweet_count                 14640.0  8.265027e-02  7.457782e-01   \n",
       "\n",
       "                                       min           25%           50%  \\\n",
       "tweet_id                      5.675883e+17  5.685592e+17  5.694779e+17   \n",
       "airline_sentiment_confidence  3.350000e-01  6.923000e-01  1.000000e+00   \n",
       "negativereason_confidence     0.000000e+00  3.606000e-01  6.706000e-01   \n",
       "retweet_count                 0.000000e+00  0.000000e+00  0.000000e+00   \n",
       "\n",
       "                                       75%           max  \n",
       "tweet_id                      5.698905e+17  5.703106e+17  \n",
       "airline_sentiment_confidence  1.000000e+00  1.000000e+00  \n",
       "negativereason_confidence     1.000000e+00  1.000000e+00  \n",
       "retweet_count                 0.000000e+00  4.400000e+01  "
      ]
     },
     "execution_count": 34,
     "metadata": {},
     "output_type": "execute_result"
    }
   ],
   "source": [
    "twitter_df.describe().T"
   ]
  },
  {
   "cell_type": "code",
   "execution_count": null,
   "id": "8b466d26-225b-4c87-b110-9d2d892f6c55",
   "metadata": {},
   "outputs": [],
   "source": []
  }
 ],
 "metadata": {
  "kernelspec": {
   "display_name": "Python 3 (ipykernel)",
   "language": "python",
   "name": "python3"
  },
  "language_info": {
   "codemirror_mode": {
    "name": "ipython",
    "version": 3
   },
   "file_extension": ".py",
   "mimetype": "text/x-python",
   "name": "python",
   "nbconvert_exporter": "python",
   "pygments_lexer": "ipython3",
   "version": "3.10.10"
  }
 },
 "nbformat": 4,
 "nbformat_minor": 5
}
